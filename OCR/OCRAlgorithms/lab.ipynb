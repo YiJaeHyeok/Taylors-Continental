{
 "cells": [
  {
   "cell_type": "code",
   "execution_count": null,
   "metadata": {},
   "outputs": [],
   "source": [
    "import cv2\n",
    "\n",
    "# Read image\n",
    "img = cv2.imread('C:\\Users\\contienntal\\Desktop\\tireImage\\Goodyear.png')\n",
    "img2 = cv2.imread('C:\\Users\\contienntal\\Desktop\\tireImage\\tireimage.png')\n",
    "print(img.shape)\n",
    "\n",
    "h = 965\n",
    "img = img[482:950,180:1150]\n",
    "img2 = img2[0:481,180:1150]\n",
    "plt.imshow(img)\n",
    "# Actual remapping to polar coordinate space\n",
    "img = cv2.rotate(img, cv2.ROTATE_90_CLOCKWISE)\n",
    "img = cv2.rotate(img, cv2.ROTATE_90_CLOCKWISE)\n",
    "gray = cv2.warpPolar(img, (-1, -1), (h // 2, h // 2), h,\n",
    "                     cv2.INTER_CUBIC + cv2.WARP_POLAR_LINEAR)\n",
    "\n",
    "gray2 = cv2.warpPolar(img2, (-1, -1), (h // 2, h // 2), h,\n",
    "                     cv2.INTER_CUBIC + cv2.WARP_POLAR_LINEAR)\n",
    "\n",
    "gray = cv2.rotate(gray, cv2.ROTATE_90_COUNTERCLOCKWISE)\n",
    "gray = gray[490:670,1510:3100]\n",
    "\n",
    "gray2 = cv2.rotate(gray2, cv2.ROTATE_90_COUNTERCLOCKWISE)\n",
    "gray2 = gray2[490:670,1510:3100]\n",
    "\n",
    "print(plt.imshow(gray))\n",
    "\n",
    "print(plt.imshow(gray))"
   ]
  }
 ],
 "metadata": {
  "kernelspec": {
   "display_name": "Python 3",
   "language": "python",
   "name": "python3"
  },
  "language_info": {
   "codemirror_mode": {
    "name": "ipython",
    "version": 3
   },
   "file_extension": ".py",
   "mimetype": "text/x-python",
   "name": "python",
   "nbconvert_exporter": "python",
   "pygments_lexer": "ipython3",
   "version": "3.7.5"
  },
  "orig_nbformat": 4,
  "vscode": {
   "interpreter": {
    "hash": "9254c112bcb396daf4403636b5487f2c686d8e2cdadf7da8b5f4ac6a2ecd77d7"
   }
  }
 },
 "nbformat": 4,
 "nbformat_minor": 2
}
